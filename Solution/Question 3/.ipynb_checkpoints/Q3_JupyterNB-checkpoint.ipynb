{
 "cells": [
  {
   "cell_type": "code",
   "execution_count": 103,
   "metadata": {},
   "outputs": [],
   "source": [
    "import numpy as np\n",
    "import pandas as pd\n",
    "import matplotlib.pyplot as plt\n",
    "\n",
    "from sklearn import metrics\n",
    "from sklearn.model_selection import train_test_split\n",
    "from sklearn.neural_network import MLPRegressor\n",
    "from sklearn.preprocessing import StandardScaler\n",
    "\n",
    "# Read data from input file\n",
    "test_data_x = pd.read_csv(\"test_data.txt\", sep='\\t')\n",
    "data_x = pd.read_csv(\"train_data.txt\", sep='\\t')\n",
    "data_y = pd.read_csv(\"train_truth.txt\")\n"
   ]
  },
  {
   "cell_type": "code",
   "execution_count": 109,
   "metadata": {},
   "outputs": [],
   "source": [
    "# Preparing the data\n",
    "\n",
    "scale = StandardScaler(with_mean=True,with_std=True)\n",
    "data_x = scale.fit_transform(data_x)\n",
    "\n",
    "train_x,test_x,train_y,test_y = train_test_split(data_x,data_y,test_size = 0.2,random_state = 1)\n"
   ]
  },
  {
   "cell_type": "code",
   "execution_count": 110,
   "metadata": {
    "scrolled": false
   },
   "outputs": [
    {
     "name": "stdout",
     "output_type": "stream",
     "text": [
      "mean absolute error: 0.025536040876637623\n"
     ]
    }
   ],
   "source": [
    "# Construct the MLP modle\n",
    "\n",
    "#  4x4 hidden layers\n",
    "mlp_reg = MLPRegressor(hidden_layer_sizes=(4,4), \n",
    "                    activation='tanh', \n",
    "                    solver='adam', \n",
    "                    alpha=0.0001,   \n",
    "                    max_iter=100, \n",
    "                    random_state=12,\n",
    "                   )\n",
    "\n",
    "mlp_reg.fit(train_x,train_y.values.ravel())\n",
    "\n",
    "# cauculate the mean absolute error on data set\n",
    "pre_y = mlp_reg.predict(data_x)\n",
    "print(\"mean absolute error:\", metrics.mean_absolute_error(data_y,pre_y))"
   ]
  },
  {
   "cell_type": "code",
   "execution_count": 106,
   "metadata": {},
   "outputs": [],
   "source": [
    "# predict using test data\n",
    "predict_y = mlp_reg.predict(test_data_x)\n",
    "#print(predict_y[0:10])\n",
    "\n",
    "  \n",
    "# Print the results to outputfile\n",
    "# Converting the float number to exponential number \n",
    "results = pd.DataFrame([\"{:e}\".format(y) for y in predict_y],columns=['y'], )\n",
    "results.to_csv(\"test_predicted.txt\", index=0)"
   ]
  }
 ],
 "metadata": {
  "kernelspec": {
   "display_name": "Python 3",
   "language": "python",
   "name": "python3"
  },
  "language_info": {
   "codemirror_mode": {
    "name": "ipython",
    "version": 3
   },
   "file_extension": ".py",
   "mimetype": "text/x-python",
   "name": "python",
   "nbconvert_exporter": "python",
   "pygments_lexer": "ipython3",
   "version": "3.7.1"
  }
 },
 "nbformat": 4,
 "nbformat_minor": 2
}
